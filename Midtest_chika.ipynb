{
  "nbformat": 4,
  "nbformat_minor": 0,
  "metadata": {
    "colab": {
      "provenance": [],
      "history_visible": true
    },
    "kernelspec": {
      "name": "python3",
      "display_name": "Python 3"
    },
    "language_info": {
      "name": "python"
    }
  },
  "cells": [
    {
      "cell_type": "markdown",
      "source": [
        "**Python 1 : Who is in the third place?**"
      ],
      "metadata": {
        "id": "xXVIZaXcmwgh"
      }
    },
    {
      "cell_type": "markdown",
      "source": [
        "Create a function whose name is third_place that does the following:\n",
        "\n",
        "Given a list of test score and a list of participants name. The desired output would be the name of the participant who gets the 3rd best score. The rule of determining the order of the best score is as follows:\n",
        "\n",
        "Higher score is better\n",
        "In case of multiple participants having the same test score, they can occupy the same ranking value. For example, if 2 participants scored 100, then both of them occupy the first place.\n",
        "The first input of the function is the name list, and the second input to the function is the score list.\n",
        "\n",
        "Example 1:\n",
        "Input:\n",
        "\n",
        "names = [Andi, Budi, Charlie, Dilan, Echa]\n",
        "score = [80, 90, 95, 100, 85]\n",
        "This means, Andi gets 80, Budi gets 90, Charlie gets 95, Dilan gets 100, and Echa gets 85. The first best score is 100, and Dilan gets it. The second best score is 95, and Charlie gets it. The third best score is 90, and Budi gets it. So, our output should be Budi.\n",
        "\n",
        "Output: 'The third winner: Budi'.\n",
        "\n",
        "When we run third_place(names, score), the output will be 'The third winner: Budi'.\n",
        "\n",
        "Example 2:\n",
        "Input:\n",
        "\n",
        "names = [Andi, Budi, Charlie, Dilan, Echa]\n",
        "score = [80, 80, 80, 100, 90]\n",
        "This means, Andi, Budi, and Charlie gets 80, Dilan gets 100, and Echa gets 90. The third best score is 80, and our output should list ALL of the participants who get 80.\n",
        "\n",
        "Output: 'The third winner: Andi, Budi, Charlie'.\n",
        "\n",
        "When we run third_place(names, score), the output will be 'The third winner: Andi, Budi, Charlie'.\n",
        "\n",
        "Example 3:\n",
        "Input:\n",
        "\n",
        "names = [Andi, Budi, Charlie, Dilan, Echa, Fanya]\n",
        "score = [80, 90, 90, 100, 100, 80]\n",
        "The first best score (first winner) is 100 - Dilan and Echa shared this position. The second best score (second winner) is 90 - Budi and Charlie shared this position. The third best score (third winner) is 80, and it is shared by Andi and Fanya. So, our output should be Andi and Fanya.\n",
        "\n",
        "Output: 'The third winner: Andi, Fanya'."
      ],
      "metadata": {
        "id": "xc9_rMi8m5OH"
      }
    },
    {
      "cell_type": "markdown",
      "source": [
        "Jawban:\n"
      ],
      "metadata": {
        "id": "eKkzctKsnHio"
      }
    },
    {
      "cell_type": "code",
      "source": [
        "def third_place(names, scores):\n",
        "    score_dict = {}\n",
        "    for name, score in zip(names, scores):\n",
        "        if score in score_dict:\n",
        "            score_dict[score].append(name)\n",
        "        else:\n",
        "            score_dict[score] = [name]\n",
        "\n",
        "    sorted_scores = sorted(score_dict.keys(), reverse=True)\n",
        "    third_best_score = sorted_scores[2]\n",
        "    third_place_names = score_dict[third_best_score]\n",
        "\n",
        "    if len(third_place_names) == 1:\n",
        "        return f\"The third winner: {third_place_names[0]}\"\n",
        "    else:\n",
        "        return f\"The third winner: {', '.join(third_place_names)}\"\n",
        "\n",
        "names = [\"Andi\", \"Budi\", \"Charlie\", \"Dilan\", \"Echa\", \"Fanya\"]\n",
        "scores = [80, 90, 90, 100, 100, 80]\n",
        "print(third_place(names, scores))"
      ],
      "metadata": {
        "colab": {
          "base_uri": "https://localhost:8080/"
        },
        "id": "f50nO4JwqC68",
        "outputId": "ecca36fc-1f86-4875-df33-22b77eebcf4f"
      },
      "execution_count": 15,
      "outputs": [
        {
          "output_type": "stream",
          "name": "stdout",
          "text": [
            "The third winner: Andi, Fanya\n"
          ]
        }
      ]
    },
    {
      "cell_type": "markdown",
      "source": [
        "**Python 2 : Find Distance Between Two Coordinates**"
      ],
      "metadata": {
        "id": "agpbQofvqwJJ"
      }
    },
    {
      "cell_type": "markdown",
      "source": [
        "Create a function called distance that does the following:\n",
        "\n",
        "Given two coordinates in a list. Your task is to calculate the distance between these two coordinates. The input of your function will be two list. Each list contains 2 members, representing the x and y position.\n",
        "\n",
        "Example 1:\n",
        "Input:\n",
        "\n",
        "point_1 = [5, 5]\n",
        "point_2 = [1, 2]\n",
        "This means, the first point's coordinate is (5,5), the second point's coordinate is (1,2). To calculate the distance between these two points, we use the usual euclidean distance formula here: https://wikimedia.org/api/rest_v1/media/math/render/svg/2e0c9ce1b3455cb9e92c6bad6684dbda02f69c82.\n",
        "\n",
        "The distance is:\n",
        "\n",
        "Square root of ((5-1)^2 + (5-2)^2) = Square root of (16 + 9) = Square root of (25) = 5.\n",
        "\n",
        "Output: 'The distance is 5.'\n",
        "\n",
        "So, when we run the code distance(point_1, point_2) the output will be 'The distance is 5'.\n",
        "\n",
        "Example 2:\n",
        "Input:\n",
        "\n",
        "point_1 = [0,-1]\n",
        "point_2 = [-3, 2]\n",
        "The first coordinate is (0,-1), the second coordinate is (-3,2). The distance between them is:\n",
        "\n",
        "Square root of ((0- -3)^2 + (-1-2)^2) = Square root of (9 + 9) = Square root of (18) = 4.242640687\n",
        "\n",
        "Output: 'The distance is 4.242640687'.\n",
        "\n",
        "So, when we run the code distance(point_1, point_2) the output will be 'The distance is 4.242640487'.\n",
        "\n",
        "FAQ:\n",
        "Question: \"Desimalnya dibuletin ngga?\"\n",
        "\n",
        "Answer: \"Ngga usah peduliin format output desimalnya. Mau keluar berapa angka di belakang koma gapapa kok. Yang penting value-nya benar.\""
      ],
      "metadata": {
        "id": "Y6HTuKV5q2pT"
      }
    },
    {
      "cell_type": "markdown",
      "source": [
        "Jawaban:"
      ],
      "metadata": {
        "id": "nB8MXSJkrBlh"
      }
    },
    {
      "cell_type": "code",
      "source": [
        "import math\n",
        "\n",
        "def distance(point1, point2):\n",
        "\n",
        "    dist = math.sqrt((point1[0] - point2[0])**2 + (point1[1] - point2[1])**2)\n",
        "    return f\"The distance is {dist}\"\n",
        "\n",
        "point_1 = [5, 5]\n",
        "point_2 = [1, 2]\n",
        "print(distance(point_1, point_2))\n",
        "\n",
        "point_1 = [0, -1]\n",
        "point_2 = [-3, 2]\n",
        "print(distance(point_1, point_2))"
      ],
      "metadata": {
        "colab": {
          "base_uri": "https://localhost:8080/"
        },
        "id": "kXcNFj0F9YfB",
        "outputId": "59cb4a77-7cf3-4a9f-f59a-361001903490"
      },
      "execution_count": 28,
      "outputs": [
        {
          "output_type": "stream",
          "name": "stdout",
          "text": [
            "The distance is 5.0\n",
            "The distance is 4.242640687119285\n"
          ]
        }
      ]
    }
  ]
}